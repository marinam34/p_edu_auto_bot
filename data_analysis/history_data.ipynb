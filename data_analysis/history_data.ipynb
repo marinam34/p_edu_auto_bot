{
  "nbformat": 4,
  "nbformat_minor": 0,
  "metadata": {
    "colab": {
      "provenance": []
    },
    "kernelspec": {
      "name": "python3",
      "display_name": "Python 3"
    },
    "language_info": {
      "name": "python"
    }
  },
  "cells": [
    {
      "cell_type": "markdown",
      "source": [
        "Парсер для получения комментариев по дочерним карточкам.\n",
        "Пример: есть клиент ВШЭ, хочется узнать, что происходило с ним, но иннформация разбросана по дочерним карточкам (в случае с ВШЭ их сотни)"
      ],
      "metadata": {
        "id": "oM0xkhSlIIcA"
      }
    },
    {
      "cell_type": "code",
      "source": [
        "import requests\n",
        "\n",
        "\n",
        "API_KEY = \"your_api_key\"\n",
        "BASE_URL = \"https://proctoredu.kaiten.ru/api/latest\"\n",
        "CARD_ID = 3047259\n",
        "\n",
        "headers = {\n",
        "    \"Authorization\": f\"Bearer {API_KEY}\",\n",
        "    \"Accept\": \"application/json\"\n",
        "}\n",
        "\n",
        "def get_card_data(card_id):\n",
        "    response = requests.get(f\"{BASE_URL}/cards/{card_id}\", headers=headers)\n",
        "    if response.status_code == 200:\n",
        "        return response.json()\n",
        "    else:\n",
        "        print(\"Ошибка запроса карточки:\", response.status_code, response.text)\n",
        "        return None\n",
        "\n",
        "def get_card_comments(card_id):\n",
        "    response = requests.get(f\"{BASE_URL}/cards/{card_id}/comments\", headers=headers)\n",
        "    if response.status_code == 200:\n",
        "        return response.json()\n",
        "    else:\n",
        "        print(\"Не удалось получить комментарии:\", response.status_code, response.text)\n",
        "        return []\n",
        "\n",
        "\n",
        "def get_child_cards(card_id):\n",
        "    response = requests.get(f\"{BASE_URL}/cards/{card_id}/children\", headers=headers)\n",
        "    if response.status_code == 200:\n",
        "        return response.json()\n",
        "    else:\n",
        "        print(\"Не удалось получить дочерние карточки:\", response.status_code, response.text)\n",
        "        return []\n",
        "\n",
        "# Основной блок кода\n",
        "with open(\"card_data.txt\", \"w\", encoding=\"utf-8\") as file:\n",
        "    card_data = get_card_data(CARD_ID)\n",
        "    if card_data:\n",
        "        file.write(f\"ID: {card_data.get('id')}\\n\")\n",
        "        file.write(f\"Название: {card_data.get('title')}\\n\")\n",
        "        file.write(f\"Описание: {card_data.get('description')}\\n\")\n",
        "        file.write(f\"Дата создания: {card_data.get('created')}\\n\")\n",
        "        file.write(f\"Дата обновления: {card_data.get('updated')}\\n\\n\")\n",
        "\n",
        "        comments = get_card_comments(CARD_ID)\n",
        "        file.write(\"Комментарии:\\n\")\n",
        "        for comment in comments:\n",
        "            file.write(f\"- {comment.get('text')} (Автор: {comment.get('author_id')}, Дата: {comment.get('created')})\\n\")\n",
        "        file.write(\"\\n\")\n",
        "\n",
        "        child_cards = get_child_cards(CARD_ID)\n",
        "        file.write(\"Дочерние карточки:\\n\")\n",
        "        for child in child_cards:\n",
        "            child_data = get_card_data(child.get(\"id\"))\n",
        "            if child_data:\n",
        "                file.write(f\"- {child_data.get('title')} (ID: {child_data.get('id')})\\n\")\n",
        "                file.write(f\"  Описание: {child_data.get('description')}\\n\")\n",
        "                file.write(f\"  Дата создания: {child_data.get('created')}\\n\")\n",
        "                file.write(f\"  Дата обновления: {child_data.get('updated')}\\n\")\n",
        "\n",
        "                child_comments = get_card_comments(child_data.get(\"id\"))\n",
        "                file.write(\"  Комментарии:\\n\")\n",
        "                for comment in child_comments:\n",
        "                    file.write(f\"  - {comment.get('text')} (Автор: {comment.get('author_id')}, Дата: {comment.get('created')})\\n\")\n",
        "                file.write(\"\\n\")\n",
        "\n",
        "print(\"Данные сохранены в card_data.txt\")\n",
        "#по вшэ ошибки -- это норм, там часть картчоек удалили, всё работает корректно"
      ],
      "metadata": {
        "colab": {
          "base_uri": "https://localhost:8080/"
        },
        "id": "L_NjAXE6_kGd",
        "outputId": "7e28a645-1434-466f-c60c-2f6384a18538"
      },
      "execution_count": null,
      "outputs": [
        {
          "output_type": "stream",
          "name": "stdout",
          "text": [
            "Ошибка запроса карточки: 403 {\"message\":\"Card with id 5084451 became not accessible\"}\n",
            "Ошибка запроса карточки: 403 {\"message\":\"Card with id 5112266 became not accessible\"}\n",
            "Ошибка запроса карточки: 403 {\"message\":\"Card with id 5261221 became not accessible\"}\n",
            "Ошибка запроса карточки: 403 {\"message\":\"Card with id 5562678 became not accessible\"}\n",
            "Ошибка запроса карточки: 403 {\"message\":\"Card with id 6619211 became not accessible\"}\n",
            "Ошибка запроса карточки: 403 {\"message\":\"Card with id 8531271 became not accessible\"}\n",
            "Ошибка запроса карточки: 403 {\"message\":\"Card with id 8614312 became not accessible\"}\n",
            "Ошибка запроса карточки: 403 {\"message\":\"Card with id 8642902 became not accessible\"}\n",
            "Ошибка запроса карточки: 403 {\"message\":\"Card with id 8667794 became not accessible\"}\n",
            "Ошибка запроса карточки: 403 {\"message\":\"Card with id 8707102 became not accessible\"}\n",
            "Ошибка запроса карточки: 403 {\"message\":\"Card with id 8746735 became not accessible\"}\n",
            "Ошибка запроса карточки: 403 {\"message\":\"Card with id 8748018 became not accessible\"}\n",
            "Ошибка запроса карточки: 403 {\"message\":\"Card with id 8764249 became not accessible\"}\n",
            "Ошибка запроса карточки: 403 {\"message\":\"Card with id 8765664 became not accessible\"}\n",
            "Ошибка запроса карточки: 403 {\"message\":\"Card with id 8959112 became not accessible\"}\n",
            "Ошибка запроса карточки: 403 {\"message\":\"Card with id 9035953 became not accessible\"}\n",
            "Ошибка запроса карточки: 403 {\"message\":\"Card with id 9290301 became not accessible\"}\n",
            "Данные сохранены в card_data.txt\n"
          ]
        }
      ]
    },
    {
      "cell_type": "markdown",
      "source": [
        "Парсер для сбора карточек по определённому типу на определённом пространстве. Есть ограничение: не больше 100 карточек за раз. Пример: собираем карточки с тегом \"Новый лид\"."
      ],
      "metadata": {
        "id": "Wo5lNe8mIbmQ"
      }
    },
    {
      "cell_type": "code",
      "source": [
        "import requests\n",
        "import csv\n",
        "import re\n",
        "\n",
        "API_KEY = \"your_api_key\"\n",
        "BASE_URL = \"https://proctoredu.kaiten.ru/api/latest\"\n",
        "\n",
        "\n",
        "headers = {\n",
        "    \"Authorization\": f\"Bearer {API_KEY}\",\n",
        "    \"Accept\": \"application/json\"\n",
        "}\n",
        "\n",
        "def get_cards_by_tag(space_id, tag, limit=100):\n",
        "    url = f\"{BASE_URL}/cards?space_id={space_id}&tag={tag}&limit={limit}\"\n",
        "    response = requests.get(url, headers=headers)\n",
        "\n",
        "    if response.status_code == 200:\n",
        "        return response.json()\n",
        "    else:\n",
        "        print(\"Ошибка запроса карточек:\", response.status_code, response.text)\n",
        "        return None\n",
        "def get_card_data(card_id):\n",
        "    url = f\"{BASE_URL}/cards/{card_id}\"\n",
        "    response = requests.get(url, headers=headers)\n",
        "\n",
        "    if response.status_code == 200:\n",
        "        return response.json()\n",
        "    else:\n",
        "        print(f\"Ошибка запроса данных карточки {card_id}:\", response.status_code, response.text)\n",
        "        return None\n",
        "def extract_email(text):\n",
        "    if not text:\n",
        "        return \"Нет email\"\n",
        "\n",
        "    match = re.search(r\"[a-zA-Z0-9._%+-]+@[a-zA-Z0-9.-]+\\.[a-zA-Z]{2,}\", text)\n",
        "    return match.group(0) if match else \"Нет email\"\n",
        "\n",
        "\n",
        "SPACE_ID = 17503\n",
        "TAG = \"ДПК\"\n",
        "\n",
        "cards = get_cards_by_tag(SPACE_ID, TAG)\n",
        "\n",
        "if cards:\n",
        "    with open(\"cards_data_1.csv\", \"w\", newline=\"\", encoding=\"utf-8\") as file:\n",
        "        writer = csv.writer(file)\n",
        "        writer.writerow([\"Ссылка\", \"Email\", \"Описание\", \"Дата создания\"])\n",
        "        for card in cards:\n",
        "            card_id = card.get(\"id\")\n",
        "            card_data = get_card_data(card_id)\n",
        "\n",
        "            if card_data:\n",
        "                link = f\"https://proctoredu.kaiten.ru/card/{card_id}\"\n",
        "                description = card_data.get(\"description\") or \"Нет описания\"\n",
        "                email = extract_email(description)\n",
        "                created_date = card_data.get(\"created\", \"Неизвестно\")\n",
        "\n",
        "                writer.writerow([link, email, description, created_date])\n",
        "    print(\"Данные сохранены в 'cards_data.csv'\")"
      ],
      "metadata": {
        "colab": {
          "base_uri": "https://localhost:8080/"
        },
        "id": "wRe4b60QNho8",
        "outputId": "0b32c68f-ae40-4d80-a66d-30783d218481"
      },
      "execution_count": null,
      "outputs": [
        {
          "output_type": "stream",
          "name": "stdout",
          "text": [
            "Данные сохранены в 'cards_data.csv'\n"
          ]
        }
      ]
    },
    {
      "cell_type": "markdown",
      "source": [
        "В коде ниже ищем по названию, а не по тегу - но по названию ищет плохо"
      ],
      "metadata": {
        "id": "cfy7A1267JGt"
      }
    },
    {
      "cell_type": "code",
      "source": [
        "import requests\n",
        "import csv\n",
        "import re\n",
        "import os\n",
        "\n",
        "\n",
        "\n",
        "API_KEY = \"your_api_key\"\n",
        "BASE_URL = \"https://proctoredu.kaiten.ru/api/latest\"\n",
        "\n",
        "\n",
        "\n",
        "headers = {\n",
        "    \"Authorization\": f\"Bearer {API_KEY}\",\n",
        "    \"Accept\": \"application/json\"\n",
        "}\n",
        "\n",
        "\n",
        "def get_cards_by_title_and_date(space_id, title, created_after, limit=100):\n",
        "    url = f\"{BASE_URL}/cards?space_id={space_id}&title={title}&created_after={created_after}&limit={limit}\"\n",
        "    response = requests.get(url, headers=headers)\n",
        "\n",
        "    if response.status_code == 200:\n",
        "        return response.json()\n",
        "    else:\n",
        "        print(\"Ошибка запроса карточек:\", response.status_code, response.text)\n",
        "        return None\n",
        "\n",
        "def get_card_data(card_id):\n",
        "    url = f\"{BASE_URL}/cards/{card_id}\"\n",
        "    response = requests.get(url, headers=headers)\n",
        "\n",
        "    if response.status_code == 200:\n",
        "        return response.json()\n",
        "    else:\n",
        "        print(f\"Ошибка запроса данных карточки {card_id}:\", response.status_code, response.text)\n",
        "        return None\n",
        "\n",
        "def extract_email(text):\n",
        "    if not text:\n",
        "        return \"Нет email\"\n",
        "\n",
        "    match = re.search(r\"[a-zA-Z0-9._%+-]+@[a-zA-Z0-9.-]+\\.[a-zA-Z]{2,}\", text)\n",
        "    return match.group(0) if match else \"Нет email\"\n",
        "\n",
        "\n",
        "SPACE_ID = 17503\n",
        "TITLE = \"Обработать запрос от нового клиента\"\n",
        "CREATED_AFTER = \"2024-01-01T00:00:00Z\"\n",
        "\n",
        "\n",
        "cards = get_cards_by_title_and_date(SPACE_ID, TITLE, CREATED_AFTER)\n",
        "\n",
        "\n",
        "if cards:\n",
        "    file_exists = os.path.isfile(\"cards_data.csv\")\n",
        "    with open(\"cards_data.csv\", \"a\", newline=\"\", encoding=\"utf-8\") as file:\n",
        "        writer = csv.writer(file)\n",
        "\n",
        "        if not file_exists:\n",
        "            writer.writerow([\"Ссылка\", \"Email\", \"Описание\", \"Дата создания\"])\n",
        "\n",
        "        for card in cards:\n",
        "            card_id = card.get(\"id\")\n",
        "            card_data = get_card_data(card_id)\n",
        "\n",
        "            if card_data:\n",
        "                link = f\"https://proctoredu.kaiten.ru/card/{card_id}\"\n",
        "                description = card_data.get(\"description\") or \"Нет описания\"\n",
        "                email = extract_email(description)\n",
        "                created_date = card_data.get(\"created\", \"Неизвестно\")\n",
        "\n",
        "                writer.writerow([link, email, description, created_date])\n",
        "\n",
        "    print(\"Новые карточки добавлены в 'cards_data.csv'\")"
      ],
      "metadata": {
        "colab": {
          "base_uri": "https://localhost:8080/"
        },
        "id": "AKV0QXWQ7Gp1",
        "outputId": "8ef0ba1b-6b8b-4c29-a2ab-613a5b9be6d7"
      },
      "execution_count": null,
      "outputs": [
        {
          "output_type": "stream",
          "name": "stdout",
          "text": [
            "Новые карточки добавлены в 'cards_data.csv'\n"
          ]
        }
      ]
    }
  ]
}